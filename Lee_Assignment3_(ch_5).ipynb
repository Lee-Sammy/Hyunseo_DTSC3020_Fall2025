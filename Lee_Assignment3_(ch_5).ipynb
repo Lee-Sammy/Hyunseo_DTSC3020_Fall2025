{
  "cells": [
    {
      "cell_type": "markdown",
      "metadata": {
        "id": "view-in-github",
        "colab_type": "text"
      },
      "source": [
        "<a href=\"https://colab.research.google.com/github/Lee-Sammy/Hyunseo_DTSC3020_Fall2025/blob/main/Lee_Assignment3_(ch_5).ipynb\" target=\"_parent\"><img src=\"https://colab.research.google.com/assets/colab-badge.svg\" alt=\"Open In Colab\"/></a>"
      ]
    },
    {
      "cell_type": "markdown",
      "metadata": {
        "id": "nevCG4Qs0b8R"
      },
      "source": [
        "# DTSC 3020 – Assignment 3\n",
        "\n",
        "This exercise focuses on **if statements and conditional logic** in Python and is designed to help students practice decision-making structures.\n",
        "\n",
        "**Total points:** 5  \n",
        "**Deadline:** Friday at midnight  \n",
        "**Submission:** Upload your Python file to your GitHub repository and submit **only your GitHub link**.\n",
        "\n",
        "### Expectations\n",
        "- Write complete answers and run all cells before submission.\n",
        "- Keep the notebook clean (no unnecessary code).\n",
        "\n"
      ],
      "id": "nevCG4Qs0b8R"
    },
    {
      "cell_type": "markdown",
      "metadata": {
        "id": "gfumj0DY0b8f"
      },
      "source": [
        "## Question 1 – Movie Ticket System\n",
        "Write a Python code that checks the price of a movie ticket.\n",
        "If the age is between 0 and 11 it is Child, if between 12 and 17 it is Teen, and if 18 or older it is Adult.\n",
        "Print the category and the ticket price (you choose the price).\n",
        "Run the program with age = 16."
      ],
      "id": "gfumj0DY0b8f"
    },
    {
      "cell_type": "code",
      "metadata": {
        "id": "67TGDT6w0b8k",
        "colab": {
          "base_uri": "https://localhost:8080/"
        },
        "outputId": "65180032-a7a0-4e81-ecda-1b1033355f22"
      },
      "execution_count": null,
      "outputs": [
        {
          "output_type": "stream",
          "name": "stdout",
          "text": [
            "Teen\n",
            "Price: $7\n"
          ]
        }
      ],
      "source": [
        "# write your answer here\n",
        "\n",
        "age=16\n",
        "\n",
        "if age < 11:\n",
        "  print(\"Child\")\n",
        "  print(\"Price: $5\")\n",
        "elif age < 18:\n",
        "  print(\"Teen\")\n",
        "  print(\"Price: $7\")\n",
        "else:\n",
        "  print(\"Adult\")\n",
        "  print(\"Price: $10\")"
      ],
      "id": "67TGDT6w0b8k"
    },
    {
      "cell_type": "markdown",
      "metadata": {
        "id": "_tUFNVKT0b8r"
      },
      "source": [
        "## Question 2 – Online Store Discount\n",
        "Write a Python code that applies a discount based on the shopping cart total.\n",
        "If the total is less than 50 dollars there is no discount, if the total is between 50 and 99 dollars there is a 10 percent discount, and if the total is 100 dollars or more there is a 20 percent discount.\n",
        "Print the original total, the discount, and the final price.\n",
        "Run the program with cart_total = 85."
      ],
      "id": "_tUFNVKT0b8r"
    },
    {
      "cell_type": "code",
      "metadata": {
        "id": "yTtX719o0b8v",
        "colab": {
          "base_uri": "https://localhost:8080/"
        },
        "outputId": "c2e0ba20-b67c-40c0-dba1-da01abedc2e6"
      },
      "execution_count": null,
      "outputs": [
        {
          "output_type": "stream",
          "name": "stdout",
          "text": [
            "Original total: $ 85\n",
            "Discount: 10%\n",
            "Final price: $ 76.5\n"
          ]
        }
      ],
      "source": [
        "# write your answer here\n",
        "\n",
        "cart_total=85\n",
        "\n",
        "if cart_total < 50:\n",
        "  print(\"Original total: $\", cart_total)\n",
        "  print(\"Discount: $0\")\n",
        "  print(\"Final price: $\", cart_total)\n",
        "\n",
        "if cart_total >= 50 and cart_total < 100:\n",
        "  print(\"Original total: $\", cart_total)\n",
        "  print(\"Discount: 10%\")\n",
        "  print(\"Final price: $\", cart_total*0.9)\n",
        "\n",
        "if cart_total >= 100:\n",
        "  print(\"Original total: $\", cart_total)\n",
        "  print(\"Discount: 20%\")\n",
        "  print(\"Final price: $\", cart_total*0.8)\n"
      ],
      "id": "yTtX719o0b8v"
    },
    {
      "cell_type": "markdown",
      "metadata": {
        "id": "uOUYYC870b8x"
      },
      "source": [
        "## Question 3 – Exam Grading\n",
        "Write a Python code that gives a letter grade for a score.\n",
        "If the score is between 90 and 100 the grade is A, if between 80 and 89 the grade is B, if between 70 and 79 the grade is C, if between 60 and 69 the grade is D, and if below 60 the grade is F.\n",
        "Print the grade and a short message.\n",
        "Run the program with score = 73."
      ],
      "id": "uOUYYC870b8x"
    },
    {
      "cell_type": "code",
      "metadata": {
        "id": "HDtf_YLG0b8y",
        "colab": {
          "base_uri": "https://localhost:8080/"
        },
        "outputId": "efa070df-ab26-4ea1-d935-bccd5ab5cfe9"
      },
      "execution_count": null,
      "outputs": [
        {
          "output_type": "stream",
          "name": "stdout",
          "text": [
            "C\n",
            "Good\n"
          ]
        }
      ],
      "source": [
        "# write your answer here\n",
        "\n",
        "Score=73\n",
        "\n",
        "if Score >= 90 and Score <= 100:\n",
        "  print(\"A\")\n",
        "  print(\"Excellent\")\n",
        "\n",
        "if Score >= 80 and Score <= 89:\n",
        "  print(\"B\")\n",
        "  print(\"Very good\")\n",
        "\n",
        "if Score >= 70 and Score <= 79:\n",
        "  print(\"C\")\n",
        "  print(\"Good\")\n",
        "\n",
        "if Score >= 60 and Score <= 69:\n",
        "  print(\"D\")\n",
        "  print(\"Pass\")\n",
        "\n",
        "if Score < 60:\n",
        "  print(\"F\")\n",
        "  print(\"Fail\")\n"
      ],
      "id": "HDtf_YLG0b8y"
    },
    {
      "cell_type": "markdown",
      "metadata": {
        "id": "ZCIKM6Xs0b80"
      },
      "source": [
        "## Question 4 – Parking Fee\n",
        "Write a Python code that calculates parking fees.\n",
        "If the car is parked for 0 to 2 hours the parking is free, if the car is parked for 3 to 5 hours the fee is 3 dollars per hour, and if the car is parked for more than 5 hours the fee is 3 dollars per hour for the first three hours after free and then 5 dollars per hour for the rest.\n",
        "Print the number of hours and the total fee.\n",
        "Run the program with hours = 6."
      ],
      "id": "ZCIKM6Xs0b80"
    },
    {
      "cell_type": "code",
      "metadata": {
        "id": "g3a_sPo50b81",
        "colab": {
          "base_uri": "https://localhost:8080/"
        },
        "outputId": "ae021909-000d-49f2-8e32-1cb944787f24"
      },
      "execution_count": null,
      "outputs": [
        {
          "output_type": "stream",
          "name": "stdout",
          "text": [
            "Parked for 6 hours. Parking fee is $14.\n"
          ]
        }
      ],
      "source": [
        "# write your answer here\n",
        "\n",
        "hours=6\n",
        "\n",
        "if hours >= 0 and hours <= 2:\n",
        "  fee=0\n",
        "  print(f\"Parked for {hours} hours. Parking if free\")\n",
        "\n",
        "elif hours >=3 and hours <= 5:\n",
        "  fee=3*(hours-2)\n",
        "  print(f\"Parked for {hours} hours. Parking fee is ${fee}.\")\n",
        "\n",
        "elif hours > 5:\n",
        "  fee=9+(hours-5)*5\n",
        "  print(f\"Parked for {hours} hours. Parking fee is ${fee}.\")\n"
      ],
      "id": "g3a_sPo50b81"
    },
    {
      "cell_type": "markdown",
      "metadata": {
        "id": "XBf0-SPz0b83"
      },
      "source": [
        "## Question 5 – Cafeteria Menu\n",
        "Write a Python code that creates a list with three food items.\n",
        "Check if an order is in the list.\n",
        "If the item is in the list print a confirmation, and if the item is not in the list print a polite message.\n",
        "Run the program with menu = ['pizza','salad','sandwich'] and order = 'salad'."
      ],
      "id": "XBf0-SPz0b83"
    },
    {
      "cell_type": "code",
      "metadata": {
        "id": "y52UEMoX0b85",
        "colab": {
          "base_uri": "https://localhost:8080/"
        },
        "outputId": "84fb2118-237d-43bf-8f3b-8e29e34c0b78"
      },
      "execution_count": null,
      "outputs": [
        {
          "output_type": "stream",
          "name": "stdout",
          "text": [
            "Order confirmed\n"
          ]
        }
      ],
      "source": [
        "# write your answer here\n",
        "\n",
        "foods=[\"pizza\",\"salad\",\"sandwich\"]\n",
        "order=\"salad\"\n",
        "\n",
        "if order in foods:\n",
        "  print(\"Order confirmed\")\n",
        "\n",
        "else:\n",
        "  print(\"Sorry, we do not have it. Please order other item.\")\n"
      ],
      "id": "y52UEMoX0b85"
    },
    {
      "cell_type": "markdown",
      "metadata": {
        "id": "-60rL71F0b86"
      },
      "source": [
        "## Question 6 – Job Application Filter\n",
        "Write a Python code that checks if a person is eligible for a job.\n",
        "If the person is older than 22 and has more than 2 years of experience print Accepted.\n",
        "Otherwise print Not Accepted.\n",
        "Run the program with age = 23 and experience = 1."
      ],
      "id": "-60rL71F0b86"
    },
    {
      "cell_type": "code",
      "metadata": {
        "id": "-h964CqY0b88",
        "colab": {
          "base_uri": "https://localhost:8080/"
        },
        "outputId": "abcdb80a-18ab-4b29-89fc-4d41d17d5fe3"
      },
      "execution_count": null,
      "outputs": [
        {
          "output_type": "stream",
          "name": "stdout",
          "text": [
            "Not Accepted\n"
          ]
        }
      ],
      "source": [
        "# write your answer here\n",
        "\n",
        "age=23\n",
        "experience=1\n",
        "\n",
        "if age > 22 and experience > 2:\n",
        "  print(\"Accepted\")\n",
        "\n",
        "else:\n",
        "  print(\"Not Accepted\")"
      ],
      "id": "-h964CqY0b88"
    },
    {
      "cell_type": "markdown",
      "metadata": {
        "id": "MOMMxnuE0b8-"
      },
      "source": [
        "## Question 7 – Clothing Advice\n",
        "Write a Python code that suggests clothing based on the temperature.\n",
        "If the temperature is below 10 print Coat and gloves, if the temperature is between 10 and 19 print Jacket, and if the temperature is 20 or more print T-shirt.\n",
        "Run the program with temperature = 15."
      ],
      "id": "MOMMxnuE0b8-"
    },
    {
      "cell_type": "code",
      "metadata": {
        "id": "V6RtrCOa0b8_",
        "colab": {
          "base_uri": "https://localhost:8080/"
        },
        "outputId": "c74616d2-a2d5-4ab6-d91a-147f0ab8caca"
      },
      "execution_count": null,
      "outputs": [
        {
          "output_type": "stream",
          "name": "stdout",
          "text": [
            "Jacket\n"
          ]
        }
      ],
      "source": [
        "# write your answer here\n",
        "\n",
        "temperature=15\n",
        "\n",
        "if temperature < 10:\n",
        "  print(\"Coat and gloves\")\n",
        "\n",
        "elif temperature < 20:\n",
        "  print(\"Jacket\")\n",
        "\n",
        "else:\n",
        "  print(\"T-shirt\")\n"
      ],
      "id": "V6RtrCOa0b8_"
    },
    {
      "cell_type": "markdown",
      "metadata": {
        "id": "R-i9Jzpn0b9A"
      },
      "source": [
        "## Question 8 – Loan Eligibility\n",
        "Write a Python code that checks loan eligibility.\n",
        "If the salary is at least 3000 and the credit score is at least 650 print Loan Approved, otherwise print Loan Denied.\n",
        "Run the program with salary = 3500 and credit_score = 640."
      ],
      "id": "R-i9Jzpn0b9A"
    },
    {
      "cell_type": "code",
      "metadata": {
        "id": "2M0s0bC40b9B",
        "colab": {
          "base_uri": "https://localhost:8080/"
        },
        "outputId": "1a1e0b6f-ddcc-44ee-fa9f-1f1040e943e3"
      },
      "execution_count": null,
      "outputs": [
        {
          "output_type": "stream",
          "name": "stdout",
          "text": [
            "Loan Denied\n"
          ]
        }
      ],
      "source": [
        "# write your answer here\n",
        "\n",
        "salary=3500\n",
        "credit_score=640\n",
        "\n",
        "if salary >= 3000 and credit_score >= 650:\n",
        "  print(\"Loan Approved\")\n",
        "\n",
        "else:\n",
        "  print(\"Loan Denied\")"
      ],
      "id": "2M0s0bC40b9B"
    },
    {
      "cell_type": "markdown",
      "metadata": {
        "id": "I0WmTyFv0b9D"
      },
      "source": [
        "## Question 9 – Password Strength\n",
        "Write a Python code that checks if a password is strong, medium, or weak based on its length.\n",
        "If the password has fewer than 6 characters it is Weak, if it has 6 to 10 characters it is Medium, and if it has more than 10 characters it is Strong.\n",
        "Print the strength.\n",
        "Run the program with password = 'hello123'."
      ],
      "id": "I0WmTyFv0b9D"
    },
    {
      "cell_type": "code",
      "metadata": {
        "id": "Jm8fu7ft0b9E",
        "colab": {
          "base_uri": "https://localhost:8080/"
        },
        "outputId": "3975ba64-945f-4ceb-ef27-8e05027f695f"
      },
      "execution_count": null,
      "outputs": [
        {
          "output_type": "stream",
          "name": "stdout",
          "text": [
            "Medium\n"
          ]
        }
      ],
      "source": [
        "# write your answer here\n",
        "\n",
        "password=\"hello123\"\n",
        "\n",
        "if len(password) < 6:\n",
        "  print(\"Weak\")\n",
        "\n",
        "elif len(password) < 11:\n",
        "  print(\"Medium\")\n",
        "\n",
        "else:\n",
        "  print(\"Strong\")\n"
      ],
      "id": "Jm8fu7ft0b9E"
    },
    {
      "cell_type": "markdown",
      "metadata": {
        "id": "kgKSm4WB0b9F"
      },
      "source": [
        "## Question 10 – Guest List Checker\n",
        "Write a Python code that creates a list with three invited guests.\n",
        "Define a variable for a guest name.\n",
        "Check if the guest name is in the list.\n",
        "If the guest is in the list print Welcome, and if the guest is not in the list print Not on the list.\n",
        "Run the program with guest = 'Sara'."
      ],
      "id": "kgKSm4WB0b9F"
    },
    {
      "cell_type": "code",
      "metadata": {
        "id": "4pyiTbMT0b9G",
        "colab": {
          "base_uri": "https://localhost:8080/"
        },
        "outputId": "855d0d60-06d6-4691-b6b6-ebac582a34ec"
      },
      "execution_count": 11,
      "outputs": [
        {
          "output_type": "stream",
          "name": "stdout",
          "text": [
            "Not on the list\n"
          ]
        }
      ],
      "source": [
        "# write your answer here\n",
        "\n",
        "guests=[\"Bob\",\"Alice\",\"Tom\"]\n",
        "guest=\"Sara\"\n",
        "\n",
        "if guest in guests:\n",
        "  print(\"Welcome\")\n",
        "\n",
        "else:\n",
        "  print(\"Not on the list\")\n"
      ],
      "id": "4pyiTbMT0b9G"
    }
  ],
  "metadata": {
    "kernelspec": {
      "display_name": "Python 3",
      "language": "python",
      "name": "python3"
    },
    "language_info": {
      "name": "python",
      "version": "3.x"
    },
    "colab": {
      "provenance": [],
      "include_colab_link": true
    }
  },
  "nbformat": 4,
  "nbformat_minor": 5
}