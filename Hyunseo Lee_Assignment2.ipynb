{
  "nbformat": 4,
  "nbformat_minor": 0,
  "metadata": {
    "colab": {
      "provenance": [],
      "authorship_tag": "ABX9TyOyWmPwGTT0b+iyiOoQDlBP",
      "include_colab_link": true
    },
    "kernelspec": {
      "name": "python3",
      "display_name": "Python 3"
    },
    "language_info": {
      "name": "python"
    }
  },
  "cells": [
    {
      "cell_type": "markdown",
      "metadata": {
        "id": "view-in-github",
        "colab_type": "text"
      },
      "source": [
        "<a href=\"https://colab.research.google.com/github/Lee-Sammy/Hyunseo_DTSC3020_Fall2025/blob/main/Lee_Assign2.ipynb\" target=\"_parent\"><img src=\"https://colab.research.google.com/assets/colab-badge.svg\" alt=\"Open In Colab\"/></a>"
      ]
    },
    {
      "cell_type": "code",
      "source": [
        "fruits = [\"apple\", \"banana\", \"orange\"]\n",
        "print(fruits)\n",
        "print(fruits[0])\n",
        "print(fruits[1])\n",
        "print(fruits[2])"
      ],
      "metadata": {
        "id": "KYKLwKpAF6vw"
      },
      "execution_count": null,
      "outputs": []
    },
    {
      "cell_type": "code",
      "source": [
        "names = [\"John\", \"Alice\", \"Bob\", \"Emma\"]\n",
        "names[0] = \"Mike\"\n",
        "print(names)"
      ],
      "metadata": {
        "id": "jdknsVgaF-RH"
      },
      "execution_count": null,
      "outputs": []
    },
    {
      "cell_type": "code",
      "source": [
        "vehicles = [\"car\", \"bus\", \"bike\", \"train\", \"truck\"]\n",
        "vehicles.append(\"scooter\")\n",
        "print(vehicles)"
      ],
      "metadata": {
        "id": "oOu1B9BLGCgX"
      },
      "execution_count": null,
      "outputs": []
    },
    {
      "cell_type": "code",
      "source": [
        "foods = [\"pizza\", \"burger\", \"pasta\", \"sushi\", \"salad\", \"taco\"]\n",
        "foods.remove(\"pasta\")\n",
        "print(foods)"
      ],
      "metadata": {
        "id": "_Q_-TCLJGITG"
      },
      "execution_count": null,
      "outputs": []
    },
    {
      "cell_type": "code",
      "source": [
        "cities = [\"Dallas\", \"Austin\", \"Houston\", \"San Antonio\"]\n",
        "cities.sort()\n",
        "print(cities)\n",
        "cities.reverse()\n",
        "print(cities)"
      ],
      "metadata": {
        "id": "KjbUN7LIGLmd"
      },
      "execution_count": null,
      "outputs": []
    },
    {
      "cell_type": "code",
      "source": [
        "animals = [\"dog\", \"cat\", \"rabbit\"]\n",
        "for animal in animals:\n",
        "    print(animal)"
      ],
      "metadata": {
        "id": "DUQdeibXGOpQ"
      },
      "execution_count": null,
      "outputs": []
    },
    {
      "cell_type": "code",
      "source": [
        "numbers = [1, 2, 3, 4, 5]\n",
        "for number in numbers:\n",
        "    print(number * 2)"
      ],
      "metadata": {
        "id": "EyaRjaZ5GSQ7"
      },
      "execution_count": null,
      "outputs": []
    },
    {
      "cell_type": "code",
      "source": [
        "friends = [\"James\", \"Lily\", \"Sophie\", \"Noah\", \"Olivia\", \"Ethan\"]\n",
        "print(friends[:3])  # First three\n",
        "print(friends[-3:]) # Last three"
      ],
      "metadata": {
        "id": "G14WPmWZGUH2"
      },
      "execution_count": null,
      "outputs": []
    },
    {
      "cell_type": "code",
      "source": [
        "nums = list(range(1, 11))\n",
        "print(nums)"
      ],
      "metadata": {
        "id": "3D92P8xhGYmm"
      },
      "execution_count": null,
      "outputs": []
    },
    {
      "cell_type": "code",
      "source": [
        "squares = [x**2 for x in range(1, 6)]\n",
        "print(squares)"
      ],
      "metadata": {
        "id": "HFQzib0_GccN"
      },
      "execution_count": null,
      "outputs": []
    }
  ]
}
